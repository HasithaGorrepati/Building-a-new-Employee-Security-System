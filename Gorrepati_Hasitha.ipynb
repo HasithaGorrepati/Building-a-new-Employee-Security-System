{
 "cells": [
  {
   "cell_type": "code",
   "execution_count": 1,
   "id": "d3d16d1c",
   "metadata": {},
   "outputs": [
    {
     "name": "stdout",
     "output_type": "stream",
     "text": [
      "Train Accuracy: 1.0\n",
      "Test Accuracy: 0.9019341703427214\n"
     ]
    }
   ],
   "source": [
    "import numpy as np\n",
    "import pandas as pd\n",
    "from sklearn.ensemble import RandomForestClassifier\n",
    "from sklearn.metrics import accuracy_score\n",
    "\n",
    "# Function to load data including inertial signals\n",
    "def load_data(features_file, labels_file, inertial_signals_files):\n",
    "    features = pd.read_csv(features_file, delim_whitespace=True, header=None)\n",
    "    labels = pd.read_csv(labels_file, delim_whitespace=True, header=None)\n",
    "    inertial_signals = [pd.read_csv(file, delim_whitespace=True, header=None) for file in inertial_signals_files]\n",
    "    return pd.concat([features] + inertial_signals, axis=1), labels.values.ravel()\n",
    "\n",
    "# Load training data\n",
    "X_train, y_train = load_data('C:\\\\Users\\\\akhil\\\\Hasitha\\\\human+activity+recognition+using+smartphones\\\\UCI HAR Dataset\\\\UCI HAR Dataset\\\\train\\\\X_train.txt', \n",
    "                             'C:\\\\Users\\\\akhil\\\\Hasitha\\\\human+activity+recognition+using+smartphones\\\\UCI HAR Dataset\\\\UCI HAR Dataset\\\\train\\\\y_train.txt', \n",
    "                             ['C:\\\\Users\\\\akhil\\\\Hasitha\\\\human+activity+recognition+using+smartphones\\\\UCI HAR Dataset\\\\UCI HAR Dataset\\\\train\\\\Inertial Signals\\\\total_acc_x_train.txt',\n",
    "                              'C:\\\\Users\\\\akhil\\\\Hasitha\\\\human+activity+recognition+using+smartphones\\\\UCI HAR Dataset\\\\UCI HAR Dataset\\\\train\\\\Inertial Signals\\\\total_acc_y_train.txt',\n",
    "                              'C:\\\\Users\\\\akhil\\\\Hasitha\\\\human+activity+recognition+using+smartphones\\\\UCI HAR Dataset\\\\UCI HAR Dataset\\\\train\\\\Inertial Signals\\\\total_acc_z_train.txt',\n",
    "                              'C:\\\\Users\\\\akhil\\\\Hasitha\\\\human+activity+recognition+using+smartphones\\\\UCI HAR Dataset\\\\UCI HAR Dataset\\\\train\\\\Inertial Signals\\\\body_acc_x_train.txt',\n",
    "                              'C:\\\\Users\\\\akhil\\\\Hasitha\\\\human+activity+recognition+using+smartphones\\\\UCI HAR Dataset\\\\UCI HAR Dataset\\\\train\\\\Inertial Signals\\\\body_acc_y_train.txt',\n",
    "                              'C:\\\\Users\\\\akhil\\\\Hasitha\\\\human+activity+recognition+using+smartphones\\\\UCI HAR Dataset\\\\UCI HAR Dataset\\\\train\\\\Inertial Signals\\\\body_acc_z_train.txt',\n",
    "                              'C:\\\\Users\\\\akhil\\\\Hasitha\\\\human+activity+recognition+using+smartphones\\\\UCI HAR Dataset\\\\UCI HAR Dataset\\\\train\\\\Inertial Signals\\\\body_gyro_x_train.txt',\n",
    "                              'C:\\\\Users\\\\akhil\\\\Hasitha\\\\human+activity+recognition+using+smartphones\\\\UCI HAR Dataset\\\\UCI HAR Dataset\\\\train\\\\Inertial Signals\\\\body_gyro_y_train.txt',\n",
    "                              'C:\\\\Users\\\\akhil\\\\Hasitha\\\\human+activity+recognition+using+smartphones\\\\UCI HAR Dataset\\\\UCI HAR Dataset\\\\train\\\\Inertial Signals\\\\body_gyro_z_train.txt'])\n",
    "\n",
    "# Load testing data\n",
    "X_test, y_test = load_data('C:\\\\Users\\\\akhil\\\\Hasitha\\\\human+activity+recognition+using+smartphones\\\\UCI HAR Dataset\\\\UCI HAR Dataset\\\\test\\\\X_test.txt', \n",
    "                           'C:\\\\Users\\\\akhil\\\\Hasitha\\\\human+activity+recognition+using+smartphones\\\\UCI HAR Dataset\\\\UCI HAR Dataset\\\\test\\\\y_test.txt', \n",
    "                           ['C:\\\\Users\\\\akhil\\\\Hasitha\\\\human+activity+recognition+using+smartphones\\\\UCI HAR Dataset\\\\UCI HAR Dataset\\\\test\\\\Inertial Signals\\\\total_acc_x_test.txt',\n",
    "                            'C:\\\\Users\\\\akhil\\\\Hasitha\\\\human+activity+recognition+using+smartphones\\\\UCI HAR Dataset\\\\UCI HAR Dataset\\\\test\\\\Inertial Signals\\\\total_acc_y_test.txt',\n",
    "                            'C:\\\\Users\\\\akhil\\\\Hasitha\\\\human+activity+recognition+using+smartphones\\\\UCI HAR Dataset\\\\UCI HAR Dataset\\\\test\\\\Inertial Signals\\\\total_acc_z_test.txt',\n",
    "                            'C:\\\\Users\\\\akhil\\\\Hasitha\\\\human+activity+recognition+using+smartphones\\\\UCI HAR Dataset\\\\UCI HAR Dataset\\\\test\\\\Inertial Signals\\\\body_acc_x_test.txt',\n",
    "                            'C:\\\\Users\\\\akhil\\\\Hasitha\\\\human+activity+recognition+using+smartphones\\\\UCI HAR Dataset\\\\UCI HAR Dataset\\\\test\\\\Inertial Signals\\\\body_acc_y_test.txt',\n",
    "                            'C:\\\\Users\\\\akhil\\\\Hasitha\\\\human+activity+recognition+using+smartphones\\\\UCI HAR Dataset\\\\UCI HAR Dataset\\\\test\\\\Inertial Signals\\\\body_acc_z_test.txt',\n",
    "                            'C:\\\\Users\\\\akhil\\\\Hasitha\\\\human+activity+recognition+using+smartphones\\\\UCI HAR Dataset\\\\UCI HAR Dataset\\\\test\\\\Inertial Signals\\\\body_gyro_x_test.txt',\n",
    "                            'C:\\\\Users\\\\akhil\\\\Hasitha\\\\human+activity+recognition+using+smartphones\\\\UCI HAR Dataset\\\\UCI HAR Dataset\\\\test\\\\Inertial Signals\\\\body_gyro_y_test.txt',\n",
    "                            'C:\\\\Users\\\\akhil\\\\Hasitha\\\\human+activity+recognition+using+smartphones\\\\UCI HAR Dataset\\\\UCI HAR Dataset\\\\test\\\\Inertial Signals\\\\body_gyro_z_test.txt'])\n",
    "\n",
    "# Initialize and train the model\n",
    "model = RandomForestClassifier(n_estimators=100, random_state=42)\n",
    "model.fit(X_train, y_train)\n",
    "\n",
    "# Make predictions on the training and testing data\n",
    "train_predictions = model.predict(X_train)\n",
    "test_predictions = model.predict(X_test)\n",
    "\n",
    "# Evaluate the model\n",
    "train_accuracy = accuracy_score(y_train, train_predictions)\n",
    "test_accuracy = accuracy_score(y_test, test_predictions)\n",
    "\n",
    "print(\"Train Accuracy:\", train_accuracy)\n",
    "print(\"Test Accuracy:\", test_accuracy)"
   ]
  },
  {
   "cell_type": "code",
   "execution_count": 2,
   "id": "9d45ee46",
   "metadata": {},
   "outputs": [],
   "source": [
    "from sklearn.preprocessing import StandardScaler\n",
    "\n",
    "scaler = StandardScaler()\n",
    "X_train_scaled = scaler.fit_transform(X_train)\n",
    "X_test_scaled = scaler.transform(X_test)"
   ]
  },
  {
   "cell_type": "code",
   "execution_count": 3,
   "id": "7608a848",
   "metadata": {},
   "outputs": [],
   "source": [
    "from sklearn.feature_selection import SelectKBest, f_classif\n",
    "\n",
    "selector = SelectKBest(score_func=f_classif, k=10)  # Select top k features based on ANOVA F-value\n",
    "X_train_selected = selector.fit_transform(X_train, y_train)\n",
    "X_test_selected = selector.transform(X_test)"
   ]
  },
  {
   "cell_type": "code",
   "execution_count": 5,
   "id": "da710972",
   "metadata": {},
   "outputs": [
    {
     "name": "stderr",
     "output_type": "stream",
     "text": [
      "C:\\Users\\akhil\\anaconda3\\Lib\\site-packages\\pandas\\core\\internals\\blocks.py:329: RuntimeWarning: divide by zero encountered in log1p\n",
      "  result = func(self.values, **kwargs)\n",
      "C:\\Users\\akhil\\anaconda3\\Lib\\site-packages\\pandas\\core\\internals\\blocks.py:329: RuntimeWarning: invalid value encountered in log1p\n",
      "  result = func(self.values, **kwargs)\n"
     ]
    }
   ],
   "source": [
    "import numpy as np\n",
    "\n",
    "X_train_log = np.log1p(X_train)  # Logarithmic transformation\n",
    "X_test_log = np.log1p(X_test)"
   ]
  },
  {
   "cell_type": "code",
   "execution_count": 9,
   "id": "7611422f",
   "metadata": {},
   "outputs": [
    {
     "name": "stdout",
     "output_type": "stream",
     "text": [
      "Random Forest: Mean Accuracy = 0.9101, Std = 0.0197\n",
      "Support Vector Machine: Mean Accuracy = 0.9328, Std = 0.0253\n",
      "Neural Network: Mean Accuracy = 0.9206, Std = 0.0093\n"
     ]
    }
   ],
   "source": [
    "from sklearn.svm import SVC\n",
    "from sklearn.neural_network import MLPClassifier\n",
    "from sklearn.model_selection import cross_val_score\n",
    "\n",
    "# Define a list of classifiers to experiment with\n",
    "classifiers = {\n",
    "    \"Random Forest\": RandomForestClassifier(random_state=42),\n",
    "    \"Support Vector Machine\": SVC(kernel='linear'),\n",
    "    \"Neural Network\": MLPClassifier(hidden_layer_sizes=(100,), max_iter=1000)\n",
    "}\n",
    "\n",
    "# Evaluate each classifier using cross-validation\n",
    "for name, clf in classifiers.items():\n",
    "    scores = cross_val_score(clf, X_train, y_train, cv=5, scoring='accuracy')\n",
    "    print(f\"{name}: Mean Accuracy = {scores.mean():.4f}, Std = {scores.std():.4f}\")"
   ]
  },
  {
   "cell_type": "code",
   "execution_count": null,
   "id": "c1f2e765",
   "metadata": {},
   "outputs": [],
   "source": [
    "from flask import Flask, request, jsonify\n",
    "import numpy as np\n",
    "\n",
    "app = Flask(__name__)\n",
    "\n",
    "\n",
    "@app.route('/analyze_gait', methods=['POST'])\n",
    "def analyze_gait():\n",
    "    data = request.json  # Get sensor data from the request\n",
    "    sensor_data = data['sensor_data']  # Assuming sensor data is provided as a list or array\n",
    "    \n",
    "    # Preprocess the sensor data (e.g., apply filters, extract features)\n",
    "    preprocessed_data = preprocess(sensor_data)\n",
    "    \n",
    "    # Apply the machine learning model for gait analysis\n",
    "    prediction = model.predict(preprocessed_data)\n",
    "    \n",
    "    # Determine access based on the analysis results\n",
    "    if prediction == 1: \n",
    "        access_granted = True\n",
    "    else:\n",
    "        access_granted = False\n",
    "    \n",
    "    return jsonify({'access_granted': access_granted})\n",
    "\n",
    "def preprocess(sensor_data):\n",
    "    return np.array(sensor_data)  # Placeholder preprocessing, just returning the original data\n",
    "\n",
    "if __name__ == '__main__':\n",
    "    app.run(debug=False)  # Run the Flask app"
   ]
  },
  {
   "cell_type": "code",
   "execution_count": null,
   "id": "e1bb221b",
   "metadata": {},
   "outputs": [],
   "source": []
  }
 ],
 "metadata": {
  "kernelspec": {
   "display_name": "Python 3 (ipykernel)",
   "language": "python",
   "name": "python3"
  },
  "language_info": {
   "codemirror_mode": {
    "name": "ipython",
    "version": 3
   },
   "file_extension": ".py",
   "mimetype": "text/x-python",
   "name": "python",
   "nbconvert_exporter": "python",
   "pygments_lexer": "ipython3",
   "version": "3.11.5"
  }
 },
 "nbformat": 4,
 "nbformat_minor": 5
}
